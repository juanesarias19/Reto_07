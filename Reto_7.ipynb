{
  "nbformat": 4,
  "nbformat_minor": 0,
  "metadata": {
    "colab": {
      "provenance": []
    },
    "kernelspec": {
      "name": "python3",
      "display_name": "Python 3"
    },
    "language_info": {
      "name": "python"
    }
  },
  "cells": [
    {
      "cell_type": "markdown",
      "source": [
        "### Reto 7 - Clase 11\n",
        "Desarrolle la mayoría de ejercicios en clase. Para cada punto cree un programa individual asimismo cree un notebook con la solución a todos los problemas.\n",
        "\n",
        "Al finalizar suba todo a un repo y subalo al canal reto_7 en slack.\n",
        "\n",
        "**Nota:** Todo el código de aquí en adelante debe ir debidamente documentado."
      ],
      "metadata": {
        "id": "JaXSb5KWCeCt"
      }
    },
    {
      "cell_type": "markdown",
      "source": [
        "1. Imprimir un listado con los números del 1 al 100 cada uno con su respectivo cuadrado.\n"
      ],
      "metadata": {
        "id": "H6-rMe9HDPaz"
      }
    },
    {
      "cell_type": "code",
      "source": [
        "# Inicializa el contador en 0\n",
        "i = 0\n",
        "\n",
        "# Bucle while que se ejecuta mientras 'i' sea menor o igual a 100\n",
        "while(i <= 100):\n",
        "    # Imprime el número actual 'i' y su cuadrado\n",
        "    print(i, \" -> \", i**2)\n",
        "    # Incrementa 'i' en 1 para avanzar al siguiente número\n",
        "    i = i + 1"
      ],
      "metadata": {
        "id": "c_Vqz6_1g-yi",
        "colab": {
          "base_uri": "https://localhost:8080/"
        },
        "outputId": "de5f4577-e3f0-44e8-f063-a8bfc42a74dc"
      },
      "execution_count": null,
      "outputs": [
        {
          "output_type": "stream",
          "name": "stdout",
          "text": [
            "0  ->  0\n",
            "1  ->  1\n",
            "2  ->  4\n",
            "3  ->  9\n",
            "4  ->  16\n",
            "5  ->  25\n",
            "6  ->  36\n",
            "7  ->  49\n",
            "8  ->  64\n",
            "9  ->  81\n",
            "10  ->  100\n",
            "11  ->  121\n",
            "12  ->  144\n",
            "13  ->  169\n",
            "14  ->  196\n",
            "15  ->  225\n",
            "16  ->  256\n",
            "17  ->  289\n",
            "18  ->  324\n",
            "19  ->  361\n",
            "20  ->  400\n",
            "21  ->  441\n",
            "22  ->  484\n",
            "23  ->  529\n",
            "24  ->  576\n",
            "25  ->  625\n",
            "26  ->  676\n",
            "27  ->  729\n",
            "28  ->  784\n",
            "29  ->  841\n",
            "30  ->  900\n",
            "31  ->  961\n",
            "32  ->  1024\n",
            "33  ->  1089\n",
            "34  ->  1156\n",
            "35  ->  1225\n",
            "36  ->  1296\n",
            "37  ->  1369\n",
            "38  ->  1444\n",
            "39  ->  1521\n",
            "40  ->  1600\n",
            "41  ->  1681\n",
            "42  ->  1764\n",
            "43  ->  1849\n",
            "44  ->  1936\n",
            "45  ->  2025\n",
            "46  ->  2116\n",
            "47  ->  2209\n",
            "48  ->  2304\n",
            "49  ->  2401\n",
            "50  ->  2500\n",
            "51  ->  2601\n",
            "52  ->  2704\n",
            "53  ->  2809\n",
            "54  ->  2916\n",
            "55  ->  3025\n",
            "56  ->  3136\n",
            "57  ->  3249\n",
            "58  ->  3364\n",
            "59  ->  3481\n",
            "60  ->  3600\n",
            "61  ->  3721\n",
            "62  ->  3844\n",
            "63  ->  3969\n",
            "64  ->  4096\n",
            "65  ->  4225\n",
            "66  ->  4356\n",
            "67  ->  4489\n",
            "68  ->  4624\n",
            "69  ->  4761\n",
            "70  ->  4900\n",
            "71  ->  5041\n",
            "72  ->  5184\n",
            "73  ->  5329\n",
            "74  ->  5476\n",
            "75  ->  5625\n",
            "76  ->  5776\n",
            "77  ->  5929\n",
            "78  ->  6084\n",
            "79  ->  6241\n",
            "80  ->  6400\n",
            "81  ->  6561\n",
            "82  ->  6724\n",
            "83  ->  6889\n",
            "84  ->  7056\n",
            "85  ->  7225\n",
            "86  ->  7396\n",
            "87  ->  7569\n",
            "88  ->  7744\n",
            "89  ->  7921\n",
            "90  ->  8100\n",
            "91  ->  8281\n",
            "92  ->  8464\n",
            "93  ->  8649\n",
            "94  ->  8836\n",
            "95  ->  9025\n",
            "96  ->  9216\n",
            "97  ->  9409\n",
            "98  ->  9604\n",
            "99  ->  9801\n",
            "100  ->  10000\n"
          ]
        }
      ]
    },
    {
      "cell_type": "markdown",
      "source": [
        "2. Imprimir un listado con los números impares desde 1 hasta 999 y seguidamente otro listado con los números pares desde 2 hasta 1000.\n"
      ],
      "metadata": {
        "id": "FvX3tZfKDcM6"
      }
    },
    {
      "cell_type": "code",
      "source": [
        "# Listado de números impares desde 1 hasta 999\n",
        "print(\"Números impares desde 1 hasta 999:\")\n",
        "for i in range(1, 1000, 2):\n",
        "    print(i)\n",
        "\n",
        "# Listado de números pares desde 2 hasta 1000\n",
        "print(\"Números pares desde 2 hasta 1000:\")\n",
        "for i in range(2, 1001, 2):\n",
        "    print(i)"
      ],
      "metadata": {
        "id": "hH84Yyo1DgOS"
      },
      "execution_count": null,
      "outputs": []
    },
    {
      "cell_type": "markdown",
      "source": [
        "3. Imprimir los números pares en forma descendente hasta 2 que son menores o iguales a un número natural n ≥ 2 dado\n"
      ],
      "metadata": {
        "id": "IxnLDClwD2LT"
      }
    },
    {
      "cell_type": "code",
      "source": [
        "#Solicita numero al ususario\n",
        "num = int(input(\"Ingrese un natural: \"))\n",
        "\n",
        "#En caso de que el numero sea impar le restamos uno para volverlo par\n",
        "if num % 2 > 0:\n",
        "  num -=1\n",
        "\n",
        "#Inicia bucle desde el numero ingresado hasta 1 descendiendo de dos en dos\n",
        "for i in range(num, 1, -2):\n",
        "  print(i)\n"
      ],
      "metadata": {
        "colab": {
          "base_uri": "https://localhost:8080/"
        },
        "id": "MUWO6QrmD2jS",
        "outputId": "7be0ce08-5488-4038-8128-ad75bfe72027"
      },
      "execution_count": null,
      "outputs": [
        {
          "output_type": "stream",
          "name": "stdout",
          "text": [
            "Ingrese un natural: 6\n",
            "6\n",
            "4\n",
            "2\n"
          ]
        }
      ]
    },
    {
      "cell_type": "markdown",
      "source": [
        "4. Imprimir los números de 1 hasta un número natural n dado, cada uno con su respectivo factorial\n",
        "\n"
      ],
      "metadata": {
        "id": "P4NGBr0RD_GC"
      }
    },
    {
      "cell_type": "code",
      "source": [
        "def factorial(n):\n",
        "  cuenta = 1\n",
        "  for i in range(1,n+1): #se inicia bucle \"for\" que recorre desde 1 hasta n\n",
        "    cuenta*=i  #multiplica n por por i para obtener factorial\n",
        "  return cuenta\n",
        "\n",
        "if __name__ == \"__main__\":\n",
        "  n = int(input(\"Ingrese un número: \"))  # Solicita el número al usuario\n",
        "  for i in range(1, n + 1):  # Bucle para imprimir cada número con su factorial\n",
        "    print(i,\"->\", factorial(i))  # Imprime el número y su factorial"
      ],
      "metadata": {
        "colab": {
          "base_uri": "https://localhost:8080/"
        },
        "id": "ViDFSnXZ5N9P",
        "outputId": "6e5bee9f-4363-4ea3-afa5-866df9ae8e1d"
      },
      "execution_count": null,
      "outputs": [
        {
          "output_type": "stream",
          "name": "stdout",
          "text": [
            "Ingrese un número: 5\n",
            "1 -> 1\n",
            "2 -> 2\n",
            "3 -> 6\n",
            "4 -> 24\n",
            "5 -> 120\n"
          ]
        }
      ]
    },
    {
      "cell_type": "markdown",
      "source": [
        "5. Calcular el valor de 2 elevado a la potencia n usando ciclos for.\n"
      ],
      "metadata": {
        "id": "-YIFNmDLEEay"
      }
    },
    {
      "cell_type": "code",
      "source": [
        "n = int(input(\"Ingrese potencia exponente en base 2: \")) #Solicitar potencia\n",
        "\n",
        "exponente = 1 #Inicia contador\n",
        "for i in range(n): #Arreglo que se recorre hasta n\n",
        "  exponente*=2 #Realiza la potencia y asigna el nuevo valor\n",
        "\n",
        "print(\"2 ^\", n , \"=\", exponente) #Imprime el resultado"
      ],
      "metadata": {
        "colab": {
          "base_uri": "https://localhost:8080/"
        },
        "id": "AXu8SyD8-sDg",
        "outputId": "bc27733a-1b4b-4804-fb89-69a38a8474b6"
      },
      "execution_count": null,
      "outputs": [
        {
          "output_type": "stream",
          "name": "stdout",
          "text": [
            "Ingrese potencia exponente en base 2: 5\n",
            "2 ^ 5 = 32\n"
          ]
        }
      ]
    },
    {
      "cell_type": "markdown",
      "source": [
        "6. Leer un número natural n, leer otro dato de tipo real x y calcular x^n usando ciclos for. Disclaimer: Trate de no utilizar el operador de potencia (**).\n",
        "\n",
        "\n"
      ],
      "metadata": {
        "id": "X_oyPBXNEJta"
      }
    },
    {
      "cell_type": "code",
      "source": [
        "x = float(input(\"Ingrese la base de la potencia: \"))  #Se solicita la base\n",
        "n = int(input(\"Ingrese el exponente de la potencia: \")) #Se soliciyta el exponente\n",
        "\n",
        "potencia = 1 #Incia contador\n",
        "for i in range(n): #Arreglo que recorre hasta n\n",
        "  potencia*= x #Calular potencia y asignar el nuevo valor\n",
        "print(x, \"^\", n, \"=\", potencia) #Imprimir resultado"
      ],
      "metadata": {
        "colab": {
          "base_uri": "https://localhost:8080/"
        },
        "id": "mzP4FZZ3KkYJ",
        "outputId": "53cf3282-92d8-40f8-d0a0-f1be052ad2af"
      },
      "execution_count": 14,
      "outputs": [
        {
          "output_type": "stream",
          "name": "stdout",
          "text": [
            "Ingrese la base de la potencia: 7\n",
            "Ingrese el exponente de la potencia: 9\n",
            "7.0 ^ 9 = 40353607.0\n"
          ]
        }
      ]
    },
    {
      "cell_type": "markdown",
      "source": [
        "7. Diseñe un programa que muestre las tablas de multiplicar del 1 al 9.\n"
      ],
      "metadata": {
        "id": "NPpzwOHCEM9C"
      }
    },
    {
      "cell_type": "code",
      "source": [
        "def tablas(numero):  #Funcion que imprime las tablas\n",
        "    for s in range(1, 11):  #Arreglo que recorre los numeros del 1 a 10\n",
        "      print(numero,\" x \", s ,\"=\" , numero * s)# Multiplica el número por 1 hasta 10\n",
        "\n",
        "if __name__ == \"__main__\":\n",
        "  numero = int(input(\"Ingrese que tabla desea ver: \")) #Ingresar el numero de que tabla desea ver\n",
        "  if 1 <= numero <= 9:    # Ver que el número esté entre 1 y 9\n",
        "    tablas(numero)\n",
        "  else:\n",
        "    print(\"Por favor, ingresa un número entre 1 y 9.\") #Solcitar de nuevo si pone numero difrente a 1-9\n"
      ],
      "metadata": {
        "colab": {
          "base_uri": "https://localhost:8080/"
        },
        "id": "3AvFjx5XEbxT",
        "outputId": "e221bdd3-7dca-4faf-ceb3-1321118582b9"
      },
      "execution_count": 13,
      "outputs": [
        {
          "output_type": "stream",
          "name": "stdout",
          "text": [
            "Ingrese que tabla desea ver: 7\n",
            "7  x  1 = 7\n",
            "7  x  2 = 14\n",
            "7  x  3 = 21\n",
            "7  x  4 = 28\n",
            "7  x  5 = 35\n",
            "7  x  6 = 42\n",
            "7  x  7 = 49\n",
            "7  x  8 = 56\n",
            "7  x  9 = 63\n",
            "7  x  10 = 70\n"
          ]
        }
      ]
    },
    {
      "cell_type": "markdown",
      "source": [
        "8. Diseñar una función que permita calcular una aproximación de la función exponencial alrededor de 0 para cualquier valor x (real), utilizando los primeros n términos de la serie de Taylor. Nota: use math para traer la función exponencial y mostrar la diferencia entre el valor real y la aproximación.\n",
        "\n",
        "\n",
        "<img alt=\"image.png\" src=\"data:image/png;base64,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\">"
      ],
      "metadata": {
        "id": "9ujLzv0X_hj_"
      }
    },
    {
      "cell_type": "code",
      "source": [
        "import math #Importar libreria math\n",
        "\n",
        "def aproximacion(x,n): #Función para la formula\n",
        "    contador=0 #Contador para llevar la cuenta de la suma\n",
        "    for i in range(0,n+1): #Sumatoria de la formula hasta termino n\n",
        "        contador1=x**i/ math.factorial(i) #Calcular sumatoria, se importa factorial\n",
        "        contador+=contador1 #Aqui se lleva la sumatoria\n",
        "    return contador\n",
        "\n",
        "if __name__ == \"__main__\":\n",
        "  x = float(input(\"Ingrese el valor para X: \"))  # Ingresan los datos\n",
        "  n = int(input(\"Ingrese el número de términos de la serie: \"))\n",
        "\n",
        "# Calcular la aproximación\n",
        "  aproximacion_resultado = aproximacion(x, n)\n",
        "\n",
        "# El valor real de la función exponencial se calcula mediante math.exp(x)\n",
        "  real = math.exp(x)\n",
        "\n",
        "#Imprimir los resultados\n",
        "print(\"Aproximacion de e ^\",x, \"con \",n, \" terminos es= \", aproximacion(x,n))\n",
        "print(\"El valor real es = \", real)\n",
        "print(\"La diferencia entre el valor real y la aproximacion es = \", real-aproximacion_resultado) #Se restan el valor real y las aproximacion"
      ],
      "metadata": {
        "colab": {
          "base_uri": "https://localhost:8080/"
        },
        "id": "Le1Z6gJ-zxhQ",
        "outputId": "b2eeec14-ef71-40ef-942d-d3b1eef3b839"
      },
      "execution_count": 9,
      "outputs": [
        {
          "output_type": "stream",
          "name": "stdout",
          "text": [
            "Ingrese el valor para X: 5\n",
            "Ingrese el número de términos de la serie: 10\n",
            "Aproximacion de e ^ 5.0 con  10  terminos es=  146.38060102513225\n",
            "El valor real es =  148.4131591025766\n",
            "La diferencia entre el valor real y la aproximacion es =  2.0325580774443495\n"
          ]
        }
      ]
    },
    {
      "cell_type": "markdown",
      "source": [
        "9. Diseñar una función que permita calcular una aproximación de la función seno alrededor de 0 para cualquier valor x (real), utilizando los primeros n términos de la serie de Maclaurin. Nota: use math para traer la función seno y mostrar la diferencia entre el valor real y la aproximación.\n",
        "\n",
        "<img alt=\"image.png\" src=\"data:image/png;base64,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\">"
      ],
      "metadata": {
        "id": "Vaote_0EAHJt"
      }
    },
    {
      "cell_type": "code",
      "source": [
        "import math #Importar libreria math\n",
        "\n",
        "def calcular_seno(x,n): #Esta es la funcion principal\n",
        "    contador=0#Esta variable lleva la cuenta\n",
        "    for i in range (0,n+1): #Sumatoria de la formula hasta termino n\n",
        "        contador2=((-1)**i)*((x**((2*i)+1))/math.factorial(2*i+1)) #Desarrollo de la formula\n",
        "        contador+=contador2 #Esta lleva la cuenta\n",
        "    return contador\n",
        "\n",
        "if __name__ == \"__main__\":\n",
        "  x = float(input(\"Ingrese el valor para sin(x): \"))  # Ingresan los datos\n",
        "  n = int(input(\"Ingrese cantidad de terminos relacionados con la exactitud de la aproximacion: \"))\n",
        "\n",
        "# Calcular la aproximación de sin(x)\n",
        "  aproximacion_resultado = calcular_seno(x, n)\n",
        "\n",
        "# Calcular el valor real\n",
        "  real = math.sin(x)\n",
        "\n",
        "#Imprimir los resultados\n",
        "print(\"Aproximacion de sin(\",x,\") con \",n, \" terminos de radianes es= \", calcular_seno(x,n))\n",
        "print(\"El valor real en radianes es = \", real)\n",
        "print(\"La diferencia entre el valor real y la aproximacion es = \", real-aproximacion_resultado) #Se restan el valor real y las aproximacion"
      ],
      "metadata": {
        "colab": {
          "base_uri": "https://localhost:8080/"
        },
        "id": "FVs_Tj1kAG5h",
        "outputId": "7d70a218-f138-4ce1-b749-493502f49691"
      },
      "execution_count": 12,
      "outputs": [
        {
          "output_type": "stream",
          "name": "stdout",
          "text": [
            "Ingrese el valor para sin(x): 180\n",
            "Ingrese cantidad de terminos relacionados con la exactitud de la aproximacion: 5\n",
            "Aproximacion de sin( 180.0 ) con  5  terminos de radianes es=  -1.6046050562653962e+17\n",
            "El valor real en radianes es =  -0.8011526357338304\n",
            "La diferencia entre el valor real y la aproximacion es =  1.6046050562653962e+17\n"
          ]
        }
      ]
    }
  ]
}